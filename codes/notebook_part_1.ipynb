{
 "cells": [
  {
   "cell_type": "markdown",
   "metadata": {},
   "source": [
    "<img src=\"http://imgur.com/1ZcRyrc.png\" style=\"float: left; margin: 20px; height: 55px\">\n",
    "\n",
    "# Capstone Project: Predicting Fentanyl Presence In <br> Accidental Drug Overdose Deaths In Connecticut, USA"
   ]
  },
  {
   "cell_type": "markdown",
   "metadata": {},
   "source": [
    "### Contents:\n",
    "#### Part 1 (of 5)\n",
    "- [Keywords](#Keywords)\n",
    "- [Background](#Background)\n",
    "- [Problem Statement](#Problem-Statement)\n",
    "- [Target Audience](#Target-Audience)\n",
    "- [Objectives](#Objectives)\n",
    "- Data Wrangling\n",
    "- Exploration & Visualisation\n",
    "- Pre-Processing & Modelling\n",
    "- Results & Discussion\n",
    "- Recommendations\n",
    "- Conclusion\n",
    "- References"
   ]
  },
  {
   "cell_type": "markdown",
   "metadata": {},
   "source": [
    "## Keywords"
   ]
  },
  {
   "cell_type": "markdown",
   "metadata": {},
   "source": [
    "fentanyl, opioid, user, victim, overdose, death, crisis, connecticut"
   ]
  },
  {
   "cell_type": "markdown",
   "metadata": {},
   "source": [
    "## Background"
   ]
  },
  {
   "cell_type": "markdown",
   "metadata": {},
   "source": [
    "Fentanyl is a synthetic opioid analgesic used to treat severe chronic pain or severe pain following surgery [[1]](https://www.dea.gov/resources/facts-about-fentanyl). With a potency 100 times more than morphine and 50 times more than heroin, fentanyl is highly potent and poses a serious health threat [[2]](https://www.tandfonline.com/doi/pdf/10.1080/10410236.2020.1748820). It is prescribed by doctors, commonly in the form of transdermal patches or sublingual tablets, for approved indications [[3]](https://www.nbcconnecticut.com/news/local/a-perfect-storm-for-everybody-struggling-ct-saw-1374-deadly-drug-overdoses-in-2020/2476648/). However, fentanyl can be misused and abused by users who extract it from the patches and administer it via intravenous injection [[3]](https://www.nbcconnecticut.com/news/local/a-perfect-storm-for-everybody-struggling-ct-saw-1374-deadly-drug-overdoses-in-2020/2476648/). The form of fentanyl that is most often associated with overdoses is illegally manufactured in underground laboratories and sold on the illicit drug market as powders, eye drops, nasal sprays, and increasingly, as pills made to look like legitimate prescription painkillers [[3]](https://www.nbcconnecticut.com/news/local/a-perfect-storm-for-everybody-struggling-ct-saw-1374-deadly-drug-overdoses-in-2020/2476648/). Because there is no official oversight or quality control, these counterfeit pills often contain lethal doses of fentanyl, with none of the promised drug [[1]](https://www.dea.gov/resources/facts-about-fentanyl). Toxicological data shows that fentanyl use is inextricably linked with polydrug use: Fentanyl is often mixed with other drugs such as heroin, cocaine, and methamphetamine – with or without the user’s knowledge – to increase its euphoric effects; but, this also increases the likelihood of a fatal interaction [[1]](https://www.dea.gov/resources/facts-about-fentanyl)[[2]](https://www.tandfonline.com/doi/pdf/10.1080/10410236.2020.1748820)[[3]](https://www.nbcconnecticut.com/news/local/a-perfect-storm-for-everybody-struggling-ct-saw-1374-deadly-drug-overdoses-in-2020/2476648/).\n",
    "\n",
    "2013 marks the year of emergence of fentanyl in the illicit drug market [[4]](https://www.thelancet.com/journals/lanpub/article/PIIS2468-2667(21)00080-3/fulltext). Latest evidence points to a disturbing increase in the illicit use of fentanyl: Fentanyl-related overdose deaths have skyrocketed in recent years and have become a huge contributor to the current overdose death crisis in the USA [[2]](https://www.tandfonline.com/doi/pdf/10.1080/10410236.2020.1748820). Connecticut has surpassed the national death rate for drug overdoses and fentanyl-related overdoses since 2013 [[5]](https://overdose.trendct.org/story/main)[[6]](https://www.livestories.com/statistics/connecticut/fentanyl-deaths-mortality). 2020 alone has been a record-breaking year for drug overdose deaths and fentanyl-related overdose deaths in Connecticut [[3]](https://www.nbcconnecticut.com/news/local/a-perfect-storm-for-everybody-struggling-ct-saw-1374-deadly-drug-overdoses-in-2020/2476648/). In 2013, there were 490 total overdose deaths in Connecticut, of which 38 (or 7.7%) involved fentanyl [[7]](https://data.ct.gov/Health-and-Human-Services/Accidental-Drug-Related-Deaths-2012-2020/rybz-nyjw). In 2020, there were 1366 total overdose deaths in Connecticut, of which 1152 (or 84.3%) involved fentanyl [[7]](https://data.ct.gov/Health-and-Human-Services/Accidental-Drug-Related-Deaths-2012-2020/rybz-nyjw). The increase in the number of fentanyl deaths has outpaced the increase in the number of total deaths every year since 2013 [[7]](https://data.ct.gov/Health-and-Human-Services/Accidental-Drug-Related-Deaths-2012-2020/rybz-nyjw)."
   ]
  },
  {
   "cell_type": "markdown",
   "metadata": {},
   "source": [
    "## Problem Statement"
   ]
  },
  {
   "cell_type": "markdown",
   "metadata": {},
   "source": [
    "With the accidental drug overdose death problem expected to continue to worsen in the coming year and fentanyl being the dominant drug seen in overdose deaths today, there is an urgent need for effective harm-reduction strategies to tackle the escalating fentanyl crisis and stop deaths from occurring. As a start, it would be beneficial to know what are some of the main factors or drivers causing the surge in fentanyl-related overdose deaths in recent years."
   ]
  },
  {
   "cell_type": "markdown",
   "metadata": {},
   "source": [
    "## Target Audience"
   ]
  },
  {
   "cell_type": "markdown",
   "metadata": {},
   "source": [
    "This project would be targeted at Connecticut state officials. Its aim is to help them better understand the circumstances surrounding fentanyl-related overdose deaths and better recognise the top features that are most important in explaining fentanyl presence in accidental drug overdose deaths."
   ]
  },
  {
   "cell_type": "markdown",
   "metadata": {},
   "source": [
    "## Objectives"
   ]
  },
  {
   "cell_type": "markdown",
   "metadata": {},
   "source": [
    "To achieve this, several classification models will be developed. Their individual performance will be evaluated based on two metrics: Accuracy and Area Under Curve. The final chosen model will be the best-performing hyperparameter-tuned model that achieves an accuracy closest to 1 and an area under curve closest to 1. The top features that are most important in explaining fentanyl presence in accidental drug overdose deaths will be identified from the model. This will be helpful for guiding Connecticut state officials on the allocation of scarce resources to key areas that influence fentanyl presence in accidental drug overdose deaths and assisting them in working towards preventing such deaths from happening."
   ]
  }
 ],
 "metadata": {
  "anaconda-cloud": {},
  "kernelspec": {
   "display_name": "Python 3",
   "language": "python",
   "name": "python3"
  },
  "language_info": {
   "codemirror_mode": {
    "name": "ipython",
    "version": 3
   },
   "file_extension": ".py",
   "mimetype": "text/x-python",
   "name": "python",
   "nbconvert_exporter": "python",
   "pygments_lexer": "ipython3",
   "version": "3.8.8"
  }
 },
 "nbformat": 4,
 "nbformat_minor": 4
}
