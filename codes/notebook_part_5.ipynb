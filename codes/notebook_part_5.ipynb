{
 "cells": [
  {
   "cell_type": "markdown",
   "metadata": {},
   "source": [
    "<img src=\"http://imgur.com/1ZcRyrc.png\" style=\"float: left; margin: 20px; height: 55px\">\n",
    "\n",
    "# Capstone Project: Predicting Fentanyl Presence In <br> Accidental Drug Overdose Deaths In Connecticut, USA"
   ]
  },
  {
   "cell_type": "markdown",
   "metadata": {},
   "source": [
    "### Contents:\n",
    "#### Part 5 (of 5)\n",
    "- Keywords\n",
    "- Background\n",
    "- Problem Statement\n",
    "- Target Audience\n",
    "- Objectives\n",
    "- Data Wrangling\n",
    "- Exploration & Visualisation\n",
    "- Pre-Processing & Modelling\n",
    "- [Results & Discussion](#Results-&-Discussion)\n",
    "- [Recommendations](#Recommendations)\n",
    "- [Conclusion](#Conclusion)\n",
    "- [References](#References)"
   ]
  },
  {
   "cell_type": "markdown",
   "metadata": {},
   "source": [
    "## Results & Discussion"
   ]
  },
  {
   "cell_type": "markdown",
   "metadata": {},
   "source": [
    "The final chosen model, a Custom Light Gradient Boosting Machine Classifier, has done well and was able to achieve decent performance scores that surpass that of the baseline null model. To further improve the predictive ability of the final chosen model and achieve even better performance scores, information on the following features should ideally be obtained:\n",
    "\n",
    "Socioeconomic background indicators\n",
    "\n",
    "- What is the highest education level obtained by the individual?\n",
    "- What is the yearly income of the individual?\n",
    "- Is the individual living alone?\n",
    "- Is the individual under foster care?\n",
    "\n",
    "Drug use history indicators\n",
    "\n",
    "- How long has the individual been using drugs?\n",
    "- Has the individual been into drug rehabilitation before?\n",
    "- Has the individual been prescribed fentanyl before?\n",
    "- Has the individual been prescribed other opioid painkillers before?"
   ]
  },
  {
   "cell_type": "markdown",
   "metadata": {},
   "source": [
    "## Recommendations"
   ]
  },
  {
   "cell_type": "markdown",
   "metadata": {},
   "source": [
    "A few recommendations on harm-reduction strategies can be made:\n",
    "\n",
    "- Initiate education campaigns in schools and colleges to teach young kids and adults about the dangers of using drugs on the illicit drug market, especially on the overdose risks and widespread availability of illegally manufactured fentanyl\n",
    "- Pass stricter laws that deal out harsher penalties to individuals involved in the purchase and supply of several illicit drugs, given the high likelihood of finding illegally manufactured fentanyl laced into the supplies of other illicit drugs\n",
    "- Work with doctors to promote the appropriate use of opioids for pain to reduce irrational or inappropriate opioid prescribing and dispensing, with added measures for higher-risk opioids such as fentanyl that would involve statewide monitoring of all prescribing and dispensing activities\n",
    "\n",
    "Investing in harm-reduction strategies does not just solve one problem but multiple problems at once:\n",
    "\n",
    "- Outbreaks of diseases such as hepatitis and HIV/AIDS are closely connected to drug use and can be prevented by reducing drug use in the population\n",
    "- Decreasing the number of deaths from accidental drug overdose would have positive ripple effects on the other fronts of the war against drugs such as drug manufacturing and drug trafficking"
   ]
  },
  {
   "cell_type": "markdown",
   "metadata": {},
   "source": [
    "## Conclusion"
   ]
  },
  {
   "cell_type": "markdown",
   "metadata": {},
   "source": [
    "The fentanyl crisis is a complex perennial problem that presents a major challenge for public health policy. It requires a multi-pronged approach and a concerted effort from individuals, communities, and governments to overcome successfully.\n",
    "\n",
    "The final chosen model, a Custom Light Gradient Boosting Machine Classifier, was able to accurately predict 79.08% of accidental drug overdose deaths to have either no fentanyl present or fentanyl present. It has found the three most important features that predicted fentanyl presence to be age, number of drugs, and heroin presence. This information may be used to lead and direct the implementation of harm-reduction strategies aimed at reducing fentanyl-related overdose deaths.\n",
    "\n",
    "Next steps for this project would involve extending it to help predict fentanyl presence in overdose deaths in other states of the USA. It can also be adapted to investigate the presence of other drugs such as heroin and cocaine that are commonly implicated in overdose deaths.\n",
    "\n",
    "In the context of Southeast Asia, while countries such as Singapore are not embroiled in a drug crisis, countries such as Myanmar, Laos, and Thailand, whose borders form the infamous Golden Triangle, have served as the hub for illicit drug manufacturing and trafficking for many decades and could benefit from efforts targeted at tackling the problem. Formerly one of the world’s largest opium-producing areas, operations in the region have since shifted from opium poppy farming to synthetic drug production, and today it is one of the world’s leading areas for the production of methamphetamine. Myanmar, in particular, is facing a public health disaster as more and more of its young children are getting addicted to methamphetamine.\n",
    "\n",
    "Future plans for this project could involve applying it to Myanmar as a starting point for understanding what are some of the main factors or drivers causing the surge in addiction to methamphetamine in recent years."
   ]
  },
  {
   "cell_type": "markdown",
   "metadata": {},
   "source": [
    "## References"
   ]
  },
  {
   "cell_type": "markdown",
   "metadata": {},
   "source": [
    "[1] https://www.dea.gov/resources/facts-about-fentanyl<br>\n",
    "[2] https://www.tandfonline.com/doi/pdf/10.1080/10410236.2020.1748820<br>\n",
    "[3] https://www.nbcconnecticut.com/news/local/a-perfect-storm-for-everybody-struggling-ct-saw-1374-deadly-drug-overdoses-in-2020/2476648/<br>\n",
    "[4] https://www.thelancet.com/journals/lanpub/article/PIIS2468-2667(21)00080-3/fulltext<br>\n",
    "[5] https://overdose.trendct.org/story/main<br>\n",
    "[6] https://www.livestories.com/statistics/connecticut/fentanyl-deaths-mortality<br>\n",
    "[7] https://data.ct.gov/Health-and-Human-Services/Accidental-Drug-Related-Deaths-2012-2020/rybz-nyjw<br>"
   ]
  }
 ],
 "metadata": {
  "anaconda-cloud": {},
  "kernelspec": {
   "display_name": "Python 3",
   "language": "python",
   "name": "python3"
  },
  "language_info": {
   "codemirror_mode": {
    "name": "ipython",
    "version": 3
   },
   "file_extension": ".py",
   "mimetype": "text/x-python",
   "name": "python",
   "nbconvert_exporter": "python",
   "pygments_lexer": "ipython3",
   "version": "3.8.8"
  }
 },
 "nbformat": 4,
 "nbformat_minor": 4
}
